{
 "cells": [
  {
   "cell_type": "code",
   "execution_count": 1,
   "metadata": {},
   "outputs": [],
   "source": [
    "import json"
   ]
  },
  {
   "cell_type": "code",
   "execution_count": 2,
   "metadata": {},
   "outputs": [],
   "source": [
    "test = \"{'type': 'ReExchange', 'cipher': '«õÊ$$%K¯\\x1fz\\x16~r·\\x82sËï4\\x1a\\x06*-\\x89\\x13>µòu]Æ¤\\x87\\x8cý× \\x8a«yð^÷\\x11\\x17\\\\\\x85³\\x84ßûÀ-\\x86VõÞq\\x10\\x98\\x12g6\\x1d`Ä\\x03D!\\x80½\\x115jê\\xad\\x9d·ýÇ}d\\x17\\x87\\x16\\x90\\x81\\x8c\"×ôÌþ\\x19\\n}\\x85\\x17è\\n¸E÷¡\\x1e\\x06\\x100\\x92\\x816\\'\\x8eIð5b\\x9e{\\xadÎñ§k2ò\\x1a\\x1dõ|$B16\\x174yÒIB\\x12nRdÃWÏ\\x86ú5leÐ²\\x7fÀcë¦\\x10\\x9e¢!q<¶\\x82\\x0e\\x88\\x8dNTE\\x0cE,\\x0cá8±@xuÉ;©=\\x01\\x0c3Æ~·%-]\\x11!gê|\\r\\x9bÖl·\\x8e\\x9d\\x97pÐ\\x86\\x91`Ç)çØ4«sË}=b{\\n(>\\x15\\x0fÂoRu\\x18\\x1a\\x98\\x10p\\x9b\\x11*\\x84Ä\\x04º\\x0e\\x8b\\x01¢çÊe$ÿJ«ÕYZ\\x91æ(\\x02\\x12ö¼ÿ\\x1cî\\x81âL\\x02»¨õtã\\x17¼w¯D\\'\\x8fo\\x00kòcfwï§õø\\x1e\\x83/c\\x9a5G\\\\\\x0eø\\tYA\\x1b%\\x93\\x08Ï?ñUY\\x8fNX\\x03ÁÖ¥¡g\\x19È>\\x937Öõ¾Õ²\\x9d_\\\\vß6^©\\x93\\x0f\\x85\\x0eã\\x006ÎøÃ\\x86g½Gm\\xa0ð\\x8fÝ@<\\x8eÀ|ñZA\\x9dÁ]ËHq;Á¯î\\x03ÙÎÊu_\\x0b\\xadÑ\\x86ëxoÒ\\x83d\\x81\\x89\\x9f\\x92¤x®\\x855\\x8cåqfA\\x84e\\x90\\x86ìI-\\t7Æ\\x80´¸\\x87Òç×Ûw6Z¶N{¦Ê=} \\x12«\\x19Â\\x0f ÿÆgDS¯\\x00yÜlÌÕóP\\x0f\\x0f\\x10}É\\x9f_À¿Ñí¦£\"Dg¯ê\\x12f¡Ø\\x06\\x12?L\\x8fsö«¶ÜgÍë°â(C(ÚDF^È\\x06\\t&jHð:î¤,îxÆC\\x02DÓI8ñ\\x1bY\\x0c\\x9dàkré\\x06ù±½\\x82³0ÅßÉP\\x90TWÚ\\x14}¥äØg\\x8eûëþN÷Ð\\x1c\\x8adwÈªjOÍÿ\\xadf\\x0b\\x03\\x1eoåyÕêX\\x10\\x81\\x90\\x08¶aÊ0\\x9c\\x02Æç\\x97k!\\x8e\\x1bWü,É¤r\\x04É\\x0cÆõ¬ïjðD\\x92\\x1e\\x80!\\x9fÕ\\x9ajÒcu{ûÏ\\x1e>ÖÏÇ_Q\\x02£\\x1dÏ)\\x8d\\\\\\x08ñGl!»·ë½\\x9b\\x16U\\x11a«\\x8b>>\\x14\\x90\\x02V\\x04lÁ%ôwÔFv\\x12ªÃ\\x17\\x83ÏtéÕø\\x87A³Sg6©5\\x12ê\\x99µìÙÂ\\x1aJ~ÓvÝ\\x1aìS\\x00\\x00%XN\\x1fþ\\x928û¡\\x0båäÜ\\x97±äü§ê`¹Í\\x14«Í\\x99o¿&Lä%o;FØ²!¸0F¿¶Ê\\x0fk_]\\x8a\\x82É\\x9aøm¥I£û\\rïó\\x1ft\\x894²(x\\x16Äó\\tYµE\\x0fþ*\\x9fY', 'from': 'b', 'to': 'a'}\""
   ]
  },
  {
   "cell_type": "code",
   "execution_count": 3,
   "metadata": {},
   "outputs": [
    {
     "ename": "JSONDecodeError",
     "evalue": "Expecting property name enclosed in double quotes: line 2 column 2 (char 2)",
     "output_type": "error",
     "traceback": [
      "\u001b[0;31m---------------------------------------------------------------------------\u001b[0m",
      "\u001b[0;31mJSONDecodeError\u001b[0m                           Traceback (most recent call last)",
      "\u001b[0;32m/var/folders/hl/yhs_mj7j0sj4xsfd66dy27dr0000gp/T/ipykernel_19388/3372457331.py\u001b[0m in \u001b[0;36m<module>\u001b[0;34m\u001b[0m\n\u001b[0;32m----> 1\u001b[0;31m \u001b[0mjson\u001b[0m\u001b[0;34m.\u001b[0m\u001b[0mloads\u001b[0m\u001b[0;34m(\u001b[0m\u001b[0mtest\u001b[0m\u001b[0;34m)\u001b[0m\u001b[0;34m\u001b[0m\u001b[0;34m\u001b[0m\u001b[0m\n\u001b[0m",
      "\u001b[0;32m/Library/Frameworks/Python.framework/Versions/3.10/lib/python3.10/json/__init__.py\u001b[0m in \u001b[0;36mloads\u001b[0;34m(s, cls, object_hook, parse_float, parse_int, parse_constant, object_pairs_hook, **kw)\u001b[0m\n\u001b[1;32m    344\u001b[0m             \u001b[0mparse_int\u001b[0m \u001b[0;32mis\u001b[0m \u001b[0;32mNone\u001b[0m \u001b[0;32mand\u001b[0m \u001b[0mparse_float\u001b[0m \u001b[0;32mis\u001b[0m \u001b[0;32mNone\u001b[0m \u001b[0;32mand\u001b[0m\u001b[0;34m\u001b[0m\u001b[0;34m\u001b[0m\u001b[0m\n\u001b[1;32m    345\u001b[0m             parse_constant is None and object_pairs_hook is None and not kw):\n\u001b[0;32m--> 346\u001b[0;31m         \u001b[0;32mreturn\u001b[0m \u001b[0m_default_decoder\u001b[0m\u001b[0;34m.\u001b[0m\u001b[0mdecode\u001b[0m\u001b[0;34m(\u001b[0m\u001b[0ms\u001b[0m\u001b[0;34m)\u001b[0m\u001b[0;34m\u001b[0m\u001b[0;34m\u001b[0m\u001b[0m\n\u001b[0m\u001b[1;32m    347\u001b[0m     \u001b[0;32mif\u001b[0m \u001b[0mcls\u001b[0m \u001b[0;32mis\u001b[0m \u001b[0;32mNone\u001b[0m\u001b[0;34m:\u001b[0m\u001b[0;34m\u001b[0m\u001b[0;34m\u001b[0m\u001b[0m\n\u001b[1;32m    348\u001b[0m         \u001b[0mcls\u001b[0m \u001b[0;34m=\u001b[0m \u001b[0mJSONDecoder\u001b[0m\u001b[0;34m\u001b[0m\u001b[0;34m\u001b[0m\u001b[0m\n",
      "\u001b[0;32m/Library/Frameworks/Python.framework/Versions/3.10/lib/python3.10/json/decoder.py\u001b[0m in \u001b[0;36mdecode\u001b[0;34m(self, s, _w)\u001b[0m\n\u001b[1;32m    335\u001b[0m \u001b[0;34m\u001b[0m\u001b[0m\n\u001b[1;32m    336\u001b[0m         \"\"\"\n\u001b[0;32m--> 337\u001b[0;31m         \u001b[0mobj\u001b[0m\u001b[0;34m,\u001b[0m \u001b[0mend\u001b[0m \u001b[0;34m=\u001b[0m \u001b[0mself\u001b[0m\u001b[0;34m.\u001b[0m\u001b[0mraw_decode\u001b[0m\u001b[0;34m(\u001b[0m\u001b[0ms\u001b[0m\u001b[0;34m,\u001b[0m \u001b[0midx\u001b[0m\u001b[0;34m=\u001b[0m\u001b[0m_w\u001b[0m\u001b[0;34m(\u001b[0m\u001b[0ms\u001b[0m\u001b[0;34m,\u001b[0m \u001b[0;36m0\u001b[0m\u001b[0;34m)\u001b[0m\u001b[0;34m.\u001b[0m\u001b[0mend\u001b[0m\u001b[0;34m(\u001b[0m\u001b[0;34m)\u001b[0m\u001b[0;34m)\u001b[0m\u001b[0;34m\u001b[0m\u001b[0;34m\u001b[0m\u001b[0m\n\u001b[0m\u001b[1;32m    338\u001b[0m         \u001b[0mend\u001b[0m \u001b[0;34m=\u001b[0m \u001b[0m_w\u001b[0m\u001b[0;34m(\u001b[0m\u001b[0ms\u001b[0m\u001b[0;34m,\u001b[0m \u001b[0mend\u001b[0m\u001b[0;34m)\u001b[0m\u001b[0;34m.\u001b[0m\u001b[0mend\u001b[0m\u001b[0;34m(\u001b[0m\u001b[0;34m)\u001b[0m\u001b[0;34m\u001b[0m\u001b[0;34m\u001b[0m\u001b[0m\n\u001b[1;32m    339\u001b[0m         \u001b[0;32mif\u001b[0m \u001b[0mend\u001b[0m \u001b[0;34m!=\u001b[0m \u001b[0mlen\u001b[0m\u001b[0;34m(\u001b[0m\u001b[0ms\u001b[0m\u001b[0;34m)\u001b[0m\u001b[0;34m:\u001b[0m\u001b[0;34m\u001b[0m\u001b[0;34m\u001b[0m\u001b[0m\n",
      "\u001b[0;32m/Library/Frameworks/Python.framework/Versions/3.10/lib/python3.10/json/decoder.py\u001b[0m in \u001b[0;36mraw_decode\u001b[0;34m(self, s, idx)\u001b[0m\n\u001b[1;32m    351\u001b[0m         \"\"\"\n\u001b[1;32m    352\u001b[0m         \u001b[0;32mtry\u001b[0m\u001b[0;34m:\u001b[0m\u001b[0;34m\u001b[0m\u001b[0;34m\u001b[0m\u001b[0m\n\u001b[0;32m--> 353\u001b[0;31m             \u001b[0mobj\u001b[0m\u001b[0;34m,\u001b[0m \u001b[0mend\u001b[0m \u001b[0;34m=\u001b[0m \u001b[0mself\u001b[0m\u001b[0;34m.\u001b[0m\u001b[0mscan_once\u001b[0m\u001b[0;34m(\u001b[0m\u001b[0ms\u001b[0m\u001b[0;34m,\u001b[0m \u001b[0midx\u001b[0m\u001b[0;34m)\u001b[0m\u001b[0;34m\u001b[0m\u001b[0;34m\u001b[0m\u001b[0m\n\u001b[0m\u001b[1;32m    354\u001b[0m         \u001b[0;32mexcept\u001b[0m \u001b[0mStopIteration\u001b[0m \u001b[0;32mas\u001b[0m \u001b[0merr\u001b[0m\u001b[0;34m:\u001b[0m\u001b[0;34m\u001b[0m\u001b[0;34m\u001b[0m\u001b[0m\n\u001b[1;32m    355\u001b[0m             \u001b[0;32mraise\u001b[0m \u001b[0mJSONDecodeError\u001b[0m\u001b[0;34m(\u001b[0m\u001b[0;34m\"Expecting value\"\u001b[0m\u001b[0;34m,\u001b[0m \u001b[0ms\u001b[0m\u001b[0;34m,\u001b[0m \u001b[0merr\u001b[0m\u001b[0;34m.\u001b[0m\u001b[0mvalue\u001b[0m\u001b[0;34m)\u001b[0m \u001b[0;32mfrom\u001b[0m \u001b[0;32mNone\u001b[0m\u001b[0;34m\u001b[0m\u001b[0;34m\u001b[0m\u001b[0m\n",
      "\u001b[0;31mJSONDecodeError\u001b[0m: Expecting property name enclosed in double quotes: line 2 column 2 (char 2)"
     ]
    }
   ],
   "source": [
    "json.loads(test)"
   ]
  },
  {
   "cell_type": "code",
   "execution_count": null,
   "metadata": {},
   "outputs": [],
   "source": []
  }
 ],
 "metadata": {
  "kernelspec": {
   "display_name": "Python 3",
   "language": "python",
   "name": "python3"
  },
  "language_info": {
   "codemirror_mode": {
    "name": "ipython",
    "version": 3
   },
   "file_extension": ".py",
   "mimetype": "text/x-python",
   "name": "python",
   "nbconvert_exporter": "python",
   "pygments_lexer": "ipython3",
   "version": "3.10.0"
  },
  "orig_nbformat": 4
 },
 "nbformat": 4,
 "nbformat_minor": 2
}
